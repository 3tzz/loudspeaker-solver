{
 "cells": [
  {
   "cell_type": "code",
   "execution_count": 11,
   "id": "a722a378-f2ac-4033-b598-39395d94b9b5",
   "metadata": {},
   "outputs": [],
   "source": [
    "from mpi4py import MPI\n",
    "from dolfinx import mesh\n",
    "domain = mesh.create_unit_square(MPI.COMM_WORLD, 8, 8, mesh.CellType.quadrilateral)"
   ]
  },
  {
   "cell_type": "code",
   "execution_count": 12,
   "id": "3a42da60-e039-453f-9879-f226c04c44eb",
   "metadata": {},
   "outputs": [],
   "source": [
    "from dolfinx.fem import functionspace\n",
    "V = functionspace(domain, (\"Lagrange\", 1))"
   ]
  },
  {
   "cell_type": "code",
   "execution_count": 13,
   "id": "5e849da4-d6e6-4e98-ac04-a86be4502a77",
   "metadata": {},
   "outputs": [],
   "source": [
    "from dolfinx import fem\n",
    "uD = fem.Function(V)\n",
    "uD.interpolate(lambda x: 1 + x[0]**2 + 2 * x[1]**2)"
   ]
  },
  {
   "cell_type": "code",
   "execution_count": null,
   "id": "05107ca0-0edd-47bd-9369-074d1d0bc056",
   "metadata": {},
   "outputs": [],
   "source": []
  }
 ],
 "metadata": {
  "kernelspec": {
   "display_name": "Python 3 (ipykernel)",
   "language": "python",
   "name": "python3"
  },
  "language_info": {
   "codemirror_mode": {
    "name": "ipython",
    "version": 3
   },
   "file_extension": ".py",
   "mimetype": "text/x-python",
   "name": "python",
   "nbconvert_exporter": "python",
   "pygments_lexer": "ipython3",
   "version": "3.11.8"
  }
 },
 "nbformat": 4,
 "nbformat_minor": 5
}
